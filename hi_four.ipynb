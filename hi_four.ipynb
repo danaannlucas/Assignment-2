# Name: Dana Lucas
# Filename: hi_four.ipynb 
# Description: Take four names and print them in reverse order as given as a sentence.
# Experience:
#           * I have zero experience programming.
#           * I have to understand how basic coding works to better my technology law practice.
#           * I have read, understand, and, and will abide by the course collaboration policy.
#           * It took me about two hours to complete.

# Get four names from user.
name1 = input("Name 1: ")
name2 = input("Name 2: ")
name3 =  input("Name 3: ")
name4 = input("Name 4: ")

# Print the names in reverse order, formatted as a sentence. 
print(name4 + ", " + name3 + ", " + name2 + ", and " + name1 + ".")
